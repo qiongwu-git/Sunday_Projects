{
 "cells": [
  {
   "cell_type": "markdown",
   "metadata": {},
   "source": [
    "Credit to https://towardsdatascience.com/arima-forecasting-in-python-90d36c2246d3\n",
    "For reference only now."
   ]
  },
  {
   "cell_type": "markdown",
   "metadata": {},
   "source": [
    "## Inspect dataset"
   ]
  },
  {
   "cell_type": "code",
   "execution_count": 1,
   "metadata": {
    "ExecuteTime": {
     "end_time": "2020-02-04T10:11:08.021481Z",
     "start_time": "2020-02-04T10:11:05.355162Z"
    },
    "scrolled": false
   },
   "outputs": [
    {
     "data": {
      "text/html": [
       "<div>\n",
       "<style scoped>\n",
       "    .dataframe tbody tr th:only-of-type {\n",
       "        vertical-align: middle;\n",
       "    }\n",
       "\n",
       "    .dataframe tbody tr th {\n",
       "        vertical-align: top;\n",
       "    }\n",
       "\n",
       "    .dataframe thead th {\n",
       "        text-align: right;\n",
       "    }\n",
       "</style>\n",
       "<table border=\"1\" class=\"dataframe\">\n",
       "  <thead>\n",
       "    <tr style=\"text-align: right;\">\n",
       "      <th></th>\n",
       "      <th>Unnamed: 0</th>\n",
       "      <th>Artist</th>\n",
       "      <th>Position</th>\n",
       "      <th>Streams</th>\n",
       "      <th>Track Name</th>\n",
       "      <th>acousticness</th>\n",
       "      <th>analysis_url</th>\n",
       "      <th>danceability</th>\n",
       "      <th>date</th>\n",
       "      <th>duration_ms</th>\n",
       "      <th>...</th>\n",
       "      <th>loudness</th>\n",
       "      <th>mode</th>\n",
       "      <th>region</th>\n",
       "      <th>speechiness</th>\n",
       "      <th>tempo</th>\n",
       "      <th>time_signature</th>\n",
       "      <th>track_href</th>\n",
       "      <th>type</th>\n",
       "      <th>uri</th>\n",
       "      <th>valence</th>\n",
       "    </tr>\n",
       "  </thead>\n",
       "  <tbody>\n",
       "    <tr>\n",
       "      <th>0</th>\n",
       "      <td>0</td>\n",
       "      <td>Ed Sheeran</td>\n",
       "      <td>1</td>\n",
       "      <td>51095759</td>\n",
       "      <td>Shape of You</td>\n",
       "      <td>0.5810</td>\n",
       "      <td>https://api.spotify.com/v1/audio-analysis/7qiZ...</td>\n",
       "      <td>0.825</td>\n",
       "      <td>2017-01-06--2017-01-13</td>\n",
       "      <td>233713.0</td>\n",
       "      <td>...</td>\n",
       "      <td>-3.183</td>\n",
       "      <td>0.0</td>\n",
       "      <td>global</td>\n",
       "      <td>0.0802</td>\n",
       "      <td>95.977</td>\n",
       "      <td>4.0</td>\n",
       "      <td>https://api.spotify.com/v1/tracks/7qiZfU4dY1lW...</td>\n",
       "      <td>audio_features</td>\n",
       "      <td>spotify:track:7qiZfU4dY1lWllzX7mPBI3</td>\n",
       "      <td>0.9310</td>\n",
       "    </tr>\n",
       "    <tr>\n",
       "      <th>1</th>\n",
       "      <td>1</td>\n",
       "      <td>Ed Sheeran</td>\n",
       "      <td>2</td>\n",
       "      <td>35168298</td>\n",
       "      <td>Castle on the Hill</td>\n",
       "      <td>0.0232</td>\n",
       "      <td>https://api.spotify.com/v1/audio-analysis/6PCU...</td>\n",
       "      <td>0.461</td>\n",
       "      <td>2017-01-06--2017-01-13</td>\n",
       "      <td>261154.0</td>\n",
       "      <td>...</td>\n",
       "      <td>-4.868</td>\n",
       "      <td>1.0</td>\n",
       "      <td>global</td>\n",
       "      <td>0.0989</td>\n",
       "      <td>135.007</td>\n",
       "      <td>4.0</td>\n",
       "      <td>https://api.spotify.com/v1/tracks/6PCUP3dWmTjc...</td>\n",
       "      <td>audio_features</td>\n",
       "      <td>spotify:track:6PCUP3dWmTjcTtXY02oFdT</td>\n",
       "      <td>0.4710</td>\n",
       "    </tr>\n",
       "    <tr>\n",
       "      <th>2</th>\n",
       "      <td>2</td>\n",
       "      <td>The Weeknd</td>\n",
       "      <td>3</td>\n",
       "      <td>24261229</td>\n",
       "      <td>Starboy</td>\n",
       "      <td>0.1650</td>\n",
       "      <td>https://api.spotify.com/v1/audio-analysis/5aAx...</td>\n",
       "      <td>0.681</td>\n",
       "      <td>2017-01-06--2017-01-13</td>\n",
       "      <td>230453.0</td>\n",
       "      <td>...</td>\n",
       "      <td>-7.028</td>\n",
       "      <td>1.0</td>\n",
       "      <td>global</td>\n",
       "      <td>0.2820</td>\n",
       "      <td>186.054</td>\n",
       "      <td>4.0</td>\n",
       "      <td>https://api.spotify.com/v1/tracks/5aAx2yezTd8z...</td>\n",
       "      <td>audio_features</td>\n",
       "      <td>spotify:track:5aAx2yezTd8zXrkmtKl66Z</td>\n",
       "      <td>0.5350</td>\n",
       "    </tr>\n",
       "    <tr>\n",
       "      <th>3</th>\n",
       "      <td>3</td>\n",
       "      <td>Clean Bandit</td>\n",
       "      <td>4</td>\n",
       "      <td>21671209</td>\n",
       "      <td>Rockabye (feat. Sean Paul &amp; Anne-Marie)</td>\n",
       "      <td>0.4060</td>\n",
       "      <td>https://api.spotify.com/v1/audio-analysis/5knu...</td>\n",
       "      <td>0.720</td>\n",
       "      <td>2017-01-06--2017-01-13</td>\n",
       "      <td>251088.0</td>\n",
       "      <td>...</td>\n",
       "      <td>-4.068</td>\n",
       "      <td>0.0</td>\n",
       "      <td>global</td>\n",
       "      <td>0.0523</td>\n",
       "      <td>101.965</td>\n",
       "      <td>4.0</td>\n",
       "      <td>https://api.spotify.com/v1/tracks/5knuzwU65gJK...</td>\n",
       "      <td>audio_features</td>\n",
       "      <td>spotify:track:5knuzwU65gJK7IF5yJsuaW</td>\n",
       "      <td>0.7420</td>\n",
       "    </tr>\n",
       "    <tr>\n",
       "      <th>4</th>\n",
       "      <td>4</td>\n",
       "      <td>ZAYN</td>\n",
       "      <td>5</td>\n",
       "      <td>21513043</td>\n",
       "      <td>I Don’t Wanna Live Forever (Fifty Shades Darke...</td>\n",
       "      <td>0.0631</td>\n",
       "      <td>https://api.spotify.com/v1/audio-analysis/3NdD...</td>\n",
       "      <td>0.735</td>\n",
       "      <td>2017-01-06--2017-01-13</td>\n",
       "      <td>245200.0</td>\n",
       "      <td>...</td>\n",
       "      <td>-8.374</td>\n",
       "      <td>1.0</td>\n",
       "      <td>global</td>\n",
       "      <td>0.0585</td>\n",
       "      <td>117.973</td>\n",
       "      <td>4.0</td>\n",
       "      <td>https://api.spotify.com/v1/tracks/3NdDpSvN911V...</td>\n",
       "      <td>audio_features</td>\n",
       "      <td>spotify:track:3NdDpSvN911VPGivFlV5d0</td>\n",
       "      <td>0.0862</td>\n",
       "    </tr>\n",
       "  </tbody>\n",
       "</table>\n",
       "<p>5 rows × 26 columns</p>\n",
       "</div>"
      ],
      "text/plain": [
       "   Unnamed: 0        Artist Position   Streams  \\\n",
       "0           0    Ed Sheeran        1  51095759   \n",
       "1           1    Ed Sheeran        2  35168298   \n",
       "2           2    The Weeknd        3  24261229   \n",
       "3           3  Clean Bandit        4  21671209   \n",
       "4           4          ZAYN        5  21513043   \n",
       "\n",
       "                                          Track Name  acousticness  \\\n",
       "0                                       Shape of You        0.5810   \n",
       "1                                 Castle on the Hill        0.0232   \n",
       "2                                            Starboy        0.1650   \n",
       "3            Rockabye (feat. Sean Paul & Anne-Marie)        0.4060   \n",
       "4  I Don’t Wanna Live Forever (Fifty Shades Darke...        0.0631   \n",
       "\n",
       "                                        analysis_url  danceability  \\\n",
       "0  https://api.spotify.com/v1/audio-analysis/7qiZ...         0.825   \n",
       "1  https://api.spotify.com/v1/audio-analysis/6PCU...         0.461   \n",
       "2  https://api.spotify.com/v1/audio-analysis/5aAx...         0.681   \n",
       "3  https://api.spotify.com/v1/audio-analysis/5knu...         0.720   \n",
       "4  https://api.spotify.com/v1/audio-analysis/3NdD...         0.735   \n",
       "\n",
       "                     date  duration_ms  ...  loudness mode  region  \\\n",
       "0  2017-01-06--2017-01-13     233713.0  ...    -3.183  0.0  global   \n",
       "1  2017-01-06--2017-01-13     261154.0  ...    -4.868  1.0  global   \n",
       "2  2017-01-06--2017-01-13     230453.0  ...    -7.028  1.0  global   \n",
       "3  2017-01-06--2017-01-13     251088.0  ...    -4.068  0.0  global   \n",
       "4  2017-01-06--2017-01-13     245200.0  ...    -8.374  1.0  global   \n",
       "\n",
       "   speechiness    tempo  time_signature  \\\n",
       "0       0.0802   95.977             4.0   \n",
       "1       0.0989  135.007             4.0   \n",
       "2       0.2820  186.054             4.0   \n",
       "3       0.0523  101.965             4.0   \n",
       "4       0.0585  117.973             4.0   \n",
       "\n",
       "                                          track_href            type  \\\n",
       "0  https://api.spotify.com/v1/tracks/7qiZfU4dY1lW...  audio_features   \n",
       "1  https://api.spotify.com/v1/tracks/6PCUP3dWmTjc...  audio_features   \n",
       "2  https://api.spotify.com/v1/tracks/5aAx2yezTd8z...  audio_features   \n",
       "3  https://api.spotify.com/v1/tracks/5knuzwU65gJK...  audio_features   \n",
       "4  https://api.spotify.com/v1/tracks/3NdDpSvN911V...  audio_features   \n",
       "\n",
       "                                    uri  valence  \n",
       "0  spotify:track:7qiZfU4dY1lWllzX7mPBI3   0.9310  \n",
       "1  spotify:track:6PCUP3dWmTjcTtXY02oFdT   0.4710  \n",
       "2  spotify:track:5aAx2yezTd8zXrkmtKl66Z   0.5350  \n",
       "3  spotify:track:5knuzwU65gJK7IF5yJsuaW   0.7420  \n",
       "4  spotify:track:3NdDpSvN911VPGivFlV5d0   0.0862  \n",
       "\n",
       "[5 rows x 26 columns]"
      ]
     },
     "execution_count": 1,
     "metadata": {},
     "output_type": "execute_result"
    }
   ],
   "source": [
    "import pandas as pd\n",
    "df = pd.read_csv(\"top_200_features.csv\", header = \"infer\", delimiter = None)\n",
    "df.head()"
   ]
  },
  {
   "cell_type": "code",
   "execution_count": 2,
   "metadata": {
    "ExecuteTime": {
     "end_time": "2020-02-04T10:11:08.031457Z",
     "start_time": "2020-02-04T10:11:08.024462Z"
    },
    "scrolled": true
   },
   "outputs": [
    {
     "data": {
      "text/plain": [
       "Index(['Unnamed: 0', 'Artist', 'Position', 'Streams', 'Track Name',\n",
       "       'acousticness', 'analysis_url', 'danceability', 'date', 'duration_ms',\n",
       "       'energy', 'id_caller', 'id_other', 'instrumentalness', 'key',\n",
       "       'liveness', 'loudness', 'mode', 'region', 'speechiness', 'tempo',\n",
       "       'time_signature', 'track_href', 'type', 'uri', 'valence'],\n",
       "      dtype='object')"
      ]
     },
     "execution_count": 2,
     "metadata": {},
     "output_type": "execute_result"
    }
   ],
   "source": [
    "df.columns"
   ]
  },
  {
   "cell_type": "code",
   "execution_count": 3,
   "metadata": {
    "ExecuteTime": {
     "end_time": "2020-02-04T10:11:08.091424Z",
     "start_time": "2020-02-04T10:11:08.034455Z"
    }
   },
   "outputs": [],
   "source": [
    "s = df[\"danceability\"].isna()\n",
    "indices = s[s == True].index.values.tolist()\n",
    "df = df.drop(index=indices)\n",
    "df = df.reset_index()"
   ]
  },
  {
   "cell_type": "code",
   "execution_count": 4,
   "metadata": {
    "ExecuteTime": {
     "end_time": "2020-02-04T10:11:08.123445Z",
     "start_time": "2020-02-04T10:11:08.095421Z"
    }
   },
   "outputs": [],
   "source": [
    "features = df.select_dtypes(include = [\"float64\"]) # get the numeric columns"
   ]
  },
  {
   "cell_type": "code",
   "execution_count": 5,
   "metadata": {
    "ExecuteTime": {
     "end_time": "2020-02-04T10:11:08.155386Z",
     "start_time": "2020-02-04T10:11:08.125405Z"
    }
   },
   "outputs": [],
   "source": [
    "dates = []\n",
    "for i in range(0, df.shape[0], 200): # extract the date of every top 200 list\n",
    "    dates.append(df['date'][i][:10])"
   ]
  },
  {
   "cell_type": "code",
   "execution_count": 6,
   "metadata": {
    "ExecuteTime": {
     "end_time": "2020-02-04T10:11:08.538263Z",
     "start_time": "2020-02-04T10:11:08.157385Z"
    }
   },
   "outputs": [],
   "source": [
    "feature_mean = pd.DataFrame(columns = features.columns, index = pd.to_datetime(dates))\n",
    "for feature in features.columns:\n",
    "    average = []\n",
    "    for i in range(0, df.shape[0], 200):\n",
    "        average.append(df[feature][i:i+200].mean())\n",
    "    feature_mean[feature] = average"
   ]
  },
  {
   "cell_type": "code",
   "execution_count": 7,
   "metadata": {
    "ExecuteTime": {
     "end_time": "2020-02-04T10:11:08.559285Z",
     "start_time": "2020-02-04T10:11:08.540279Z"
    }
   },
   "outputs": [],
   "source": [
    "feature_mean = feature_mean.asfreq(freq = \"W\", method = 'bfill')"
   ]
  },
  {
   "cell_type": "markdown",
   "metadata": {
    "ExecuteTime": {
     "end_time": "2020-02-04T09:41:52.393945Z",
     "start_time": "2020-02-04T09:41:52.385950Z"
    }
   },
   "source": [
    "## Manually estimating model using ARIMA"
   ]
  },
  {
   "cell_type": "code",
   "execution_count": 8,
   "metadata": {
    "ExecuteTime": {
     "end_time": "2020-02-04T10:11:09.481420Z",
     "start_time": "2020-02-04T10:11:08.565264Z"
    }
   },
   "outputs": [],
   "source": [
    "from statsmodels.tsa.arima_model import ARIMA\n",
    "from statsmodels.graphics.tsaplots import plot_acf\n",
    "from statsmodels.graphics.tsaplots import plot_pacf\n",
    "from statsmodels.tsa.stattools import adfuller\n",
    "import matplotlib.pyplot as plt\n",
    "import seaborn as sns\n",
    "sns.set()"
   ]
  },
  {
   "cell_type": "code",
   "execution_count": 9,
   "metadata": {
    "ExecuteTime": {
     "end_time": "2020-02-04T10:11:09.510402Z",
     "start_time": "2020-02-04T10:11:09.485417Z"
    }
   },
   "outputs": [
    {
     "name": "stdout",
     "output_type": "stream",
     "text": [
      "p-value: 0.4345311936767221\n"
     ]
    }
   ],
   "source": [
    "timeseries = feature_mean[\"acousticness\"]\n",
    "print(\"p-value:\", adfuller(timeseries.dropna())[1])"
   ]
  },
  {
   "cell_type": "code",
   "execution_count": 10,
   "metadata": {
    "ExecuteTime": {
     "end_time": "2020-02-04T10:11:10.680899Z",
     "start_time": "2020-02-04T10:11:09.516398Z"
    }
   },
   "outputs": [
    {
     "data": {
      "image/png": "[encoded data removed]",
      "text/plain": [
       "<Figure size 720x720 with 3 Axes>"
      ]
     },
     "metadata": {
      "needs_background": "light"
     },
     "output_type": "display_data"
    }
   ],
   "source": [
    "fig = plt.figure(figsize=(10,10))\n",
    "ax1 = fig.add_subplot(311)\n",
    "fig = plot_acf(timeseries, ax=ax1, title=\"Autocorrelation on Original Series\") \n",
    "ax2 = fig.add_subplot(312)\n",
    "fig = plot_acf(timeseries.diff().dropna(), ax=ax2, title=\"1st Order Differencing\")\n",
    "ax3 = fig.add_subplot(313)\n",
    "fig = plot_acf(timeseries.diff().diff().dropna(), ax=ax3, title=\"2nd Order Differencing\")"
   ]
  },
  {
   "cell_type": "code",
   "execution_count": 11,
   "metadata": {
    "ExecuteTime": {
     "end_time": "2020-02-04T10:11:11.068789Z",
     "start_time": "2020-02-04T10:11:10.683896Z"
    }
   },
   "outputs": [
    {
     "data": {
      "image/png": "[encoded data removed]",
      "text/plain": [
       "<Figure size 432x288 with 1 Axes>"
      ]
     },
     "metadata": {
      "needs_background": "light"
     },
     "output_type": "display_data"
    }
   ],
   "source": [
    "plot_pacf(timeseries.diff().dropna(), lags=40) #knowing d=1 we apply diff() once\n",
    "plt.show()"
   ]
  },
  {
   "cell_type": "code",
   "execution_count": 12,
   "metadata": {
    "ExecuteTime": {
     "end_time": "2020-02-04T10:11:11.412208Z",
     "start_time": "2020-02-04T10:11:11.071768Z"
    }
   },
   "outputs": [
    {
     "data": {
      "image/png": "[encoded data removed]",
      "text/plain": [
       "<Figure size 432x288 with 1 Axes>"
      ]
     },
     "metadata": {
      "needs_background": "light"
     },
     "output_type": "display_data"
    }
   ],
   "source": [
    "plot_acf(timeseries.diff().dropna())\n",
    "plt.show()"
   ]
  },
  {
   "cell_type": "code",
   "execution_count": 13,
   "metadata": {
    "ExecuteTime": {
     "end_time": "2020-02-04T10:11:11.712034Z",
     "start_time": "2020-02-04T10:11:11.415203Z"
    }
   },
   "outputs": [
    {
     "data": {
      "text/html": [
       "<table class=\"simpletable\">\n",
       "<caption>ARIMA Model Results</caption>\n",
       "<tr>\n",
       "  <th>Dep. Variable:</th>  <td>D.acousticness</td>  <th>  No. Observations:  </th>    <td>139</td>  \n",
       "</tr>\n",
       "<tr>\n",
       "  <th>Model:</th>          <td>ARIMA(1, 1, 1)</td>  <th>  Log Likelihood     </th>  <td>407.424</td>\n",
       "</tr>\n",
       "<tr>\n",
       "  <th>Method:</th>             <td>css-mle</td>     <th>  S.D. of innovations</th>   <td>0.013</td> \n",
       "</tr>\n",
       "<tr>\n",
       "  <th>Date:</th>          <td>Tue, 04 Feb 2020</td> <th>  AIC                </th> <td>-806.848</td>\n",
       "</tr>\n",
       "<tr>\n",
       "  <th>Time:</th>              <td>11:11:11</td>     <th>  BIC                </th> <td>-795.110</td>\n",
       "</tr>\n",
       "<tr>\n",
       "  <th>Sample:</th>           <td>01-15-2017</td>    <th>  HQIC               </th> <td>-802.078</td>\n",
       "</tr>\n",
       "<tr>\n",
       "  <th></th>                 <td>- 09-08-2019</td>   <th>                     </th>     <td> </td>   \n",
       "</tr>\n",
       "</table>\n",
       "<table class=\"simpletable\">\n",
       "<tr>\n",
       "            <td></td>              <th>coef</th>     <th>std err</th>      <th>z</th>      <th>P>|z|</th>  <th>[0.025</th>    <th>0.975]</th>  \n",
       "</tr>\n",
       "<tr>\n",
       "  <th>const</th>                <td>    0.0005</td> <td>    0.000</td> <td>    1.407</td> <td> 0.162</td> <td>   -0.000</td> <td>    0.001</td>\n",
       "</tr>\n",
       "<tr>\n",
       "  <th>ar.L1.D.acousticness</th> <td>    0.7630</td> <td>    0.141</td> <td>    5.427</td> <td> 0.000</td> <td>    0.487</td> <td>    1.039</td>\n",
       "</tr>\n",
       "<tr>\n",
       "  <th>ma.L1.D.acousticness</th> <td>   -0.9335</td> <td>    0.094</td> <td>   -9.967</td> <td> 0.000</td> <td>   -1.117</td> <td>   -0.750</td>\n",
       "</tr>\n",
       "</table>\n",
       "<table class=\"simpletable\">\n",
       "<caption>Roots</caption>\n",
       "<tr>\n",
       "    <td></td>   <th>            Real</th>  <th>         Imaginary</th> <th>         Modulus</th>  <th>        Frequency</th>\n",
       "</tr>\n",
       "<tr>\n",
       "  <th>AR.1</th> <td>           1.3106</td> <td>          +0.0000j</td> <td>           1.3106</td> <td>           0.0000</td>\n",
       "</tr>\n",
       "<tr>\n",
       "  <th>MA.1</th> <td>           1.0712</td> <td>          +0.0000j</td> <td>           1.0712</td> <td>           0.0000</td>\n",
       "</tr>\n",
       "</table>"
      ],
      "text/plain": [
       "<class 'statsmodels.iolib.summary.Summary'>\n",
       "\"\"\"\n",
       "                             ARIMA Model Results                              \n",
       "==============================================================================\n",
       "Dep. Variable:         D.acousticness   No. Observations:                  139\n",
       "Model:                 ARIMA(1, 1, 1)   Log Likelihood                 407.424\n",
       "Method:                       css-mle   S.D. of innovations              0.013\n",
       "Date:                Tue, 04 Feb 2020   AIC                           -806.848\n",
       "Time:                        11:11:11   BIC                           -795.110\n",
       "Sample:                    01-15-2017   HQIC                          -802.078\n",
       "                         - 09-08-2019                                         \n",
       "========================================================================================\n",
       "                           coef    std err          z      P>|z|      [0.025      0.975]\n",
       "----------------------------------------------------------------------------------------\n",
       "const                    0.0005      0.000      1.407      0.162      -0.000       0.001\n",
       "ar.L1.D.acousticness     0.7630      0.141      5.427      0.000       0.487       1.039\n",
       "ma.L1.D.acousticness    -0.9335      0.094     -9.967      0.000      -1.117      -0.750\n",
       "                                    Roots                                    \n",
       "=============================================================================\n",
       "                  Real          Imaginary           Modulus         Frequency\n",
       "-----------------------------------------------------------------------------\n",
       "AR.1            1.3106           +0.0000j            1.3106            0.0000\n",
       "MA.1            1.0712           +0.0000j            1.0712            0.0000\n",
       "-----------------------------------------------------------------------------\n",
       "\"\"\""
      ]
     },
     "execution_count": 13,
     "metadata": {},
     "output_type": "execute_result"
    }
   ],
   "source": [
    "model = ARIMA(timeseries, order=(1, 1, 1))\n",
    "results = model.fit()\n",
    "results.summary()"
   ]
  },
  {
   "cell_type": "code",
   "execution_count": 14,
   "metadata": {
    "ExecuteTime": {
     "end_time": "2020-02-04T10:11:12.163775Z",
     "start_time": "2020-02-04T10:11:11.715033Z"
    }
   },
   "outputs": [
    {
     "data": {
      "image/png": "[encoded data removed]",
      "text/plain": [
       "<Figure size 432x288 with 1 Axes>"
      ]
     },
     "metadata": {
      "needs_background": "light"
     },
     "output_type": "display_data"
    }
   ],
   "source": [
    "graph = results.plot_predict(1, 210)\n",
    "plt.show()"
   ]
  },
  {
   "cell_type": "markdown",
   "metadata": {},
   "source": [
    "## Auto_arima"
   ]
  },
  {
   "cell_type": "code",
   "execution_count": 15,
   "metadata": {
    "ExecuteTime": {
     "end_time": "2020-02-04T10:11:13.540519Z",
     "start_time": "2020-02-04T10:11:12.167773Z"
    }
   },
   "outputs": [],
   "source": [
    "import pmdarima as pm\n",
    "def arimamodel(timeseries):\n",
    "    automodel = pm.auto_arima(timeseries, \n",
    "                              start_p=1, \n",
    "                              start_q=1,\n",
    "                              test=\"adf\",\n",
    "                              seasonal=False,\n",
    "                              trace=True)\n",
    "    return automodel\n",
    "def plotarima(n_periods, timeseries, automodel):\n",
    "    # Forecast\n",
    "    fc, confint = automodel.predict(n_periods=n_periods, return_conf_int=True)\n",
    "    # Weekly index\n",
    "    fc_ind = pd.date_range(timeseries.index[timeseries.shape[0]-1], periods=n_periods, freq=\"W\")\n",
    "    # Forecast series\n",
    "    fc_series = pd.Series(fc, index=fc_ind)\n",
    "    # Upper and lower confidence bounds\n",
    "    lower_series = pd.Series(confint[:, 0], index=fc_ind)\n",
    "    upper_series = pd.Series(confint[:, 1], index=fc_ind)\n",
    "    # Create plot\n",
    "    plt.figure(figsize=(10, 6))\n",
    "    plt.plot(timeseries)\n",
    "    plt.plot(fc_series, color=\"red\")\n",
    "    plt.xlabel(\"date\")\n",
    "    plt.ylabel(timeseries.name)\n",
    "    plt.fill_between(lower_series.index, \n",
    "                     lower_series, \n",
    "                     upper_series, \n",
    "                     color=\"k\", alpha=.25)\n",
    "    plt.legend((\"past\", \"forecast\", \"95% confidence interval\"), loc=\"upper left\")\n",
    "    plt.show()"
   ]
  },
  {
   "cell_type": "code",
   "execution_count": 16,
   "metadata": {
    "ExecuteTime": {
     "end_time": "2020-02-04T10:11:15.078599Z",
     "start_time": "2020-02-04T10:11:13.542477Z"
    }
   },
   "outputs": [
    {
     "name": "stdout",
     "output_type": "stream",
     "text": [
      "Fit ARIMA: order=(1, 1, 1); AIC=-806.848, BIC=-795.110, Fit time=0.338 seconds\n",
      "Fit ARIMA: order=(0, 1, 0); AIC=-801.692, BIC=-795.823, Fit time=0.012 seconds\n",
      "Fit ARIMA: order=(1, 1, 0); AIC=-804.359, BIC=-795.555, Fit time=0.041 seconds\n",
      "Fit ARIMA: order=(0, 1, 1); AIC=-804.923, BIC=-796.119, Fit time=0.052 seconds\n",
      "Fit ARIMA: order=(2, 1, 1); AIC=-801.046, BIC=-786.373, Fit time=0.251 seconds\n",
      "Fit ARIMA: order=(1, 1, 2); AIC=-801.290, BIC=-786.617, Fit time=0.272 seconds\n",
      "Fit ARIMA: order=(2, 1, 2); AIC=-804.831, BIC=-787.225, Fit time=0.524 seconds\n",
      "Total fit time: 1.501 seconds\n"
     ]
    },
    {
     "data": {
      "text/html": [
       "<table class=\"simpletable\">\n",
       "<caption>ARIMA Model Results</caption>\n",
       "<tr>\n",
       "  <th>Dep. Variable:</th>        <td>D.y</td>       <th>  No. Observations:  </th>    <td>139</td>  \n",
       "</tr>\n",
       "<tr>\n",
       "  <th>Model:</th>          <td>ARIMA(1, 1, 1)</td>  <th>  Log Likelihood     </th>  <td>407.424</td>\n",
       "</tr>\n",
       "<tr>\n",
       "  <th>Method:</th>             <td>css-mle</td>     <th>  S.D. of innovations</th>   <td>0.013</td> \n",
       "</tr>\n",
       "<tr>\n",
       "  <th>Date:</th>          <td>Tue, 04 Feb 2020</td> <th>  AIC                </th> <td>-806.848</td>\n",
       "</tr>\n",
       "<tr>\n",
       "  <th>Time:</th>              <td>11:11:15</td>     <th>  BIC                </th> <td>-795.110</td>\n",
       "</tr>\n",
       "<tr>\n",
       "  <th>Sample:</th>                <td>1</td>        <th>  HQIC               </th> <td>-802.078</td>\n",
       "</tr>\n",
       "<tr>\n",
       "  <th></th>                       <td> </td>        <th>                     </th>     <td> </td>   \n",
       "</tr>\n",
       "</table>\n",
       "<table class=\"simpletable\">\n",
       "<tr>\n",
       "      <td></td>         <th>coef</th>     <th>std err</th>      <th>z</th>      <th>P>|z|</th>  <th>[0.025</th>    <th>0.975]</th>  \n",
       "</tr>\n",
       "<tr>\n",
       "  <th>const</th>     <td>    0.0005</td> <td>    0.000</td> <td>    1.407</td> <td> 0.162</td> <td>   -0.000</td> <td>    0.001</td>\n",
       "</tr>\n",
       "<tr>\n",
       "  <th>ar.L1.D.y</th> <td>    0.7630</td> <td>    0.141</td> <td>    5.427</td> <td> 0.000</td> <td>    0.487</td> <td>    1.039</td>\n",
       "</tr>\n",
       "<tr>\n",
       "  <th>ma.L1.D.y</th> <td>   -0.9335</td> <td>    0.094</td> <td>   -9.967</td> <td> 0.000</td> <td>   -1.117</td> <td>   -0.750</td>\n",
       "</tr>\n",
       "</table>\n",
       "<table class=\"simpletable\">\n",
       "<caption>Roots</caption>\n",
       "<tr>\n",
       "    <td></td>   <th>            Real</th>  <th>         Imaginary</th> <th>         Modulus</th>  <th>        Frequency</th>\n",
       "</tr>\n",
       "<tr>\n",
       "  <th>AR.1</th> <td>           1.3106</td> <td>          +0.0000j</td> <td>           1.3106</td> <td>           0.0000</td>\n",
       "</tr>\n",
       "<tr>\n",
       "  <th>MA.1</th> <td>           1.0712</td> <td>          +0.0000j</td> <td>           1.0712</td> <td>           0.0000</td>\n",
       "</tr>\n",
       "</table>"
      ],
      "text/plain": [
       "<class 'statsmodels.iolib.summary.Summary'>\n",
       "\"\"\"\n",
       "                             ARIMA Model Results                              \n",
       "==============================================================================\n",
       "Dep. Variable:                    D.y   No. Observations:                  139\n",
       "Model:                 ARIMA(1, 1, 1)   Log Likelihood                 407.424\n",
       "Method:                       css-mle   S.D. of innovations              0.013\n",
       "Date:                Tue, 04 Feb 2020   AIC                           -806.848\n",
       "Time:                        11:11:15   BIC                           -795.110\n",
       "Sample:                             1   HQIC                          -802.078\n",
       "                                                                              \n",
       "==============================================================================\n",
       "                 coef    std err          z      P>|z|      [0.025      0.975]\n",
       "------------------------------------------------------------------------------\n",
       "const          0.0005      0.000      1.407      0.162      -0.000       0.001\n",
       "ar.L1.D.y      0.7630      0.141      5.427      0.000       0.487       1.039\n",
       "ma.L1.D.y     -0.9335      0.094     -9.967      0.000      -1.117      -0.750\n",
       "                                    Roots                                    \n",
       "=============================================================================\n",
       "                  Real          Imaginary           Modulus         Frequency\n",
       "-----------------------------------------------------------------------------\n",
       "AR.1            1.3106           +0.0000j            1.3106            0.0000\n",
       "MA.1            1.0712           +0.0000j            1.0712            0.0000\n",
       "-----------------------------------------------------------------------------\n",
       "\"\"\""
      ]
     },
     "execution_count": 16,
     "metadata": {},
     "output_type": "execute_result"
    }
   ],
   "source": [
    "automodel = arimamodel(feature_mean[\"acousticness\"])\n",
    "automodel.summary()"
   ]
  },
  {
   "cell_type": "code",
   "execution_count": 17,
   "metadata": {
    "ExecuteTime": {
     "end_time": "2020-02-04T10:11:15.646061Z",
     "start_time": "2020-02-04T10:11:15.082596Z"
    }
   },
   "outputs": [
    {
     "data": {
      "image/png": "[encoded data removed]",
      "text/plain": [
       "<Figure size 720x432 with 1 Axes>"
      ]
     },
     "metadata": {
      "needs_background": "light"
     },
     "output_type": "display_data"
    }
   ],
   "source": [
    "plotarima(70, feature_mean[\"acousticness\"], automodel)"
   ]
  }
 ],
 "metadata": {
  "kernelspec": {
   "display_name": "Python 3",
   "language": "python",
   "name": "python3"
  },
  "language_info": {
   "codemirror_mode": {
    "name": "ipython",
    "version": 3
   },
   "file_extension": ".py",
   "mimetype": "text/x-python",
   "name": "python",
   "nbconvert_exporter": "python",
   "pygments_lexer": "ipython3",
   "version": "3.7.3"
  },
  "latex_envs": {
   "LaTeX_envs_menu_present": true,
   "autoclose": false,
   "autocomplete": true,
   "bibliofile": "biblio.bib",
   "cite_by": "apalike",
   "current_citInitial": 1,
   "eqLabelWithNumbers": true,
   "eqNumInitial": 1,
   "hotkeys": {
    "equation": "Ctrl-E",
    "itemize": "Ctrl-I"
   },
   "labels_anchors": false,
   "latex_user_defs": false,
   "report_style_numbering": false,
   "user_envs_cfg": false
  },
  "toc": {
   "base_numbering": 1,
   "nav_menu": {},
   "number_sections": true,
   "sideBar": true,
   "skip_h1_title": false,
   "title_cell": "Table of Contents",
   "title_sidebar": "Contents",
   "toc_cell": false,
   "toc_position": {},
   "toc_section_display": true,
   "toc_window_display": false
  },
  "varInspector": {
   "cols": {
    "lenName": 16,
    "lenType": 16,
    "lenVar": 40
   },
   "kernels_config": {
    "python": {
     "delete_cmd_postfix": "",
     "delete_cmd_prefix": "del ",
     "library": "var_list.py",
     "varRefreshCmd": "print(var_dic_list())"
    },
    "r": {
     "delete_cmd_postfix": ") ",
     "delete_cmd_prefix": "rm(",
     "library": "var_list.r",
     "varRefreshCmd": "cat(var_dic_list()) "
    }
   },
   "types_to_exclude": [
    "module",
    "function",
    "builtin_function_or_method",
    "instance",
    "_Feature"
   ],
   "window_display": false
  }
 },
 "nbformat": 4,
 "nbformat_minor": 2
}
