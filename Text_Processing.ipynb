{
  "nbformat": 4,
  "nbformat_minor": 0,
  "metadata": {
    "colab": {
      "name": "Text Processing.ipynb",
      "provenance": [],
      "include_colab_link": true
    },
    "kernelspec": {
      "name": "python3",
      "display_name": "Python 3"
    }
  },
  "cells": [
    {
      "cell_type": "markdown",
      "metadata": {
        "id": "view-in-github",
        "colab_type": "text"
      },
      "source": [
        "<a href=\"https://colab.research.google.com/github/qiongwu-git/Sunday_Projects/blob/master/Text_Processing.ipynb\" target=\"_parent\"><img src=\"https://colab.research.google.com/assets/colab-badge.svg\" alt=\"Open In Colab\"/></a>"
      ]
    },
    {
      "cell_type": "markdown",
      "metadata": {
        "id": "eTMuUCKgiJ_6",
        "colab_type": "text"
      },
      "source": [
        "This notebook aims to document steps to clean text data in python for NLP."
      ]
    },
    {
      "cell_type": "code",
      "metadata": {
        "id": "lF-GG_4-iRuL",
        "colab_type": "code",
        "colab": {
          "base_uri": "https://localhost:8080/",
          "height": 34
        },
        "outputId": "cb50df8b-9ef6-4f18-ff55-d180f05e0889"
      },
      "source": [
        "#1 Convert text to lowercase\n",
        "text = \"A Service Level Agreement, or SLA, is an agreed upon measure of the response and resolution times that your support team delivers to your customers. \"\n",
        "lower_case_text = text.lower()\n",
        "print(lower_case_text)"
      ],
      "execution_count": 7,
      "outputs": [
        {
          "output_type": "stream",
          "text": [
            "a service level agreement, or sla, is an agreed upon measure of the response and resolution times that your support team delivers to your customers. \n"
          ],
          "name": "stdout"
        }
      ]
    },
    {
      "cell_type": "code",
      "metadata": {
        "id": "NDtax27sjbkr",
        "colab_type": "code",
        "colab": {
          "base_uri": "https://localhost:8080/",
          "height": 102
        },
        "outputId": "e966ab61-ae4d-4853-a75c-1bfdcde6b302"
      },
      "source": [
        "#2 Tokenize paragraphs to sentences\n",
        "nltk.download('punkt')\n",
        "import nltk\n",
        "from nltk.tokenize import sent_tokenize\n",
        "paragraph = \"A Service Level Agreement, or SLA, is an agreed upon measure of the response and resolution times that your support team delivers to your customers. Providing support based on service levels ensures that you're delivering measured and predictable service. It also provides greater visibility when problems arise.\"\n",
        "sent_tokenize(paragraph)"
      ],
      "execution_count": 11,
      "outputs": [
        {
          "output_type": "stream",
          "text": [
            "[nltk_data] Downloading package punkt to /root/nltk_data...\n",
            "[nltk_data]   Unzipping tokenizers/punkt.zip.\n"
          ],
          "name": "stdout"
        },
        {
          "output_type": "execute_result",
          "data": {
            "text/plain": [
              "['A Service Level Agreement, or SLA, is an agreed upon measure of the response and resolution times that your support team delivers to your customers.',\n",
              " \"Providing support based on service levels ensures that you're delivering measured and predictable service.\",\n",
              " 'It also provides greater visibility when problems arise.']"
            ]
          },
          "metadata": {
            "tags": []
          },
          "execution_count": 11
        }
      ]
    },
    {
      "cell_type": "code",
      "metadata": {
        "id": "MizgZ-ktlTsS",
        "colab_type": "code",
        "colab": {
          "base_uri": "https://localhost:8080/",
          "height": 493
        },
        "outputId": "429fc839-1ec8-47b1-e569-fda4f4b5b96f"
      },
      "source": [
        "#3 Tokenize sentences into words\n",
        "from nltk.tokenize import TreebankWordTokenizer\n",
        "tokenizer = TreebankWordTokenizer()\n",
        "\n",
        "tokenizer.tokenize(text)"
      ],
      "execution_count": 12,
      "outputs": [
        {
          "output_type": "execute_result",
          "data": {
            "text/plain": [
              "['A',\n",
              " 'Service',\n",
              " 'Level',\n",
              " 'Agreement',\n",
              " ',',\n",
              " 'or',\n",
              " 'SLA',\n",
              " ',',\n",
              " 'is',\n",
              " 'an',\n",
              " 'agreed',\n",
              " 'upon',\n",
              " 'measure',\n",
              " 'of',\n",
              " 'the',\n",
              " 'response',\n",
              " 'and',\n",
              " 'resolution',\n",
              " 'times',\n",
              " 'that',\n",
              " 'your',\n",
              " 'support',\n",
              " 'team',\n",
              " 'delivers',\n",
              " 'to',\n",
              " 'your',\n",
              " 'customers',\n",
              " '.']"
            ]
          },
          "metadata": {
            "tags": []
          },
          "execution_count": 12
        }
      ]
    },
    {
      "cell_type": "code",
      "metadata": {
        "id": "bN2wmfcxleLG",
        "colab_type": "code",
        "colab": {
          "base_uri": "https://localhost:8080/",
          "height": 34
        },
        "outputId": "d2c8d1be-85b4-48ec-cc72-9c0f999641c0"
      },
      "source": [
        "#4 Remove numbers\n",
        "import re\n",
        "result = re.sub(r'\\d+', '', '404NotFound') #regular expression, \\d refers to digits, + means 1 or more times. Hence \\1+ means 1 or more digits\n",
        "print(result)"
      ],
      "execution_count": 13,
      "outputs": [
        {
          "output_type": "stream",
          "text": [
            "NotFound\n"
          ],
          "name": "stdout"
        }
      ]
    },
    {
      "cell_type": "code",
      "metadata": {
        "id": "efdpo7HLmCQA",
        "colab_type": "code",
        "colab": {
          "base_uri": "https://localhost:8080/",
          "height": 34
        },
        "outputId": "180fc973-2b16-499f-9c1c-8e535ec27b4b"
      },
      "source": [
        "#5 Remove Punctuation\n",
        "import string\n",
        "punctuation = string.punctuation\n",
        "text.translate(str.maketrans('', '', punctuation)) #str.maketrans('abc', 'xyz', 'hij') 'a' mapped to 'x', 'b' mapped to 'y', 'c' mapped 'z', 'h', 'i', 'j' are mapped to None"
      ],
      "execution_count": 18,
      "outputs": [
        {
          "output_type": "execute_result",
          "data": {
            "text/plain": [
              "'A Service Level Agreement or SLA is an agreed upon measure of the response and resolution times that your support team delivers to your customers '"
            ]
          },
          "metadata": {
            "tags": []
          },
          "execution_count": 18
        }
      ]
    },
    {
      "cell_type": "code",
      "metadata": {
        "id": "bLHJUbwsqjXr",
        "colab_type": "code",
        "colab": {
          "base_uri": "https://localhost:8080/",
          "height": 88
        },
        "outputId": "e7ff5ea3-08e8-42d9-8810-e0f4786b6eb8"
      },
      "source": [
        "#6 Remove stopwords\n",
        "nltk.download('stopwords')\n",
        "from nltk.tokenize import word_tokenize\n",
        "from nltk.corpus import stopwords\n",
        "words = word_tokenize(text)\n",
        "stopwords = set(stopwords.words('english'))\n",
        "cleaned_words = [w for w in words if not w in stopwords]\n",
        "print(cleaned_words)"
      ],
      "execution_count": 34,
      "outputs": [
        {
          "output_type": "stream",
          "text": [
            "[nltk_data] Downloading package stopwords to /root/nltk_data...\n",
            "[nltk_data]   Package stopwords is already up-to-date!\n",
            "['A', 'Service', 'Level', 'Agreement', ',', 'SLA', ',', 'agreed', 'upon', 'measure', 'response', 'resolution', 'times', 'support', 'team', 'delivers', 'customers', '.']\n"
          ],
          "name": "stdout"
        }
      ]
    },
    {
      "cell_type": "code",
      "metadata": {
        "id": "xZYJ6DCLtNWL",
        "colab_type": "code",
        "colab": {
          "base_uri": "https://localhost:8080/",
          "height": 34
        },
        "outputId": "28577773-6be7-4642-ab4f-c8893c80195c"
      },
      "source": [
        "#7 Remove whitespaces\n",
        "''.join('FinTechExplained Is A      Publication. \\n This is about NLP'.split()) #classic split and join"
      ],
      "execution_count": 36,
      "outputs": [
        {
          "output_type": "execute_result",
          "data": {
            "text/plain": [
              "'FinTechExplainedIsAPublication.ThisisaboutNLP'"
            ]
          },
          "metadata": {
            "tags": []
          },
          "execution_count": 36
        }
      ]
    }
  ]
}