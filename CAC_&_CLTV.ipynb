{
  "nbformat": 4,
  "nbformat_minor": 0,
  "metadata": {
    "colab": {
      "name": "CAC & CLTV.ipynb",
      "provenance": [],
      "include_colab_link": true
    },
    "kernelspec": {
      "name": "python3",
      "display_name": "Python 3"
    }
  },
  "cells": [
    {
      "cell_type": "markdown",
      "metadata": {
        "id": "view-in-github",
        "colab_type": "text"
      },
      "source": [
        "<a href=\"https://colab.research.google.com/github/qiongwu-git/Sunday_Projects/blob/master/CAC_%26_CLTV.ipynb\" target=\"_parent\"><img src=\"https://colab.research.google.com/assets/colab-badge.svg\" alt=\"Open In Colab\"/></a>"
      ]
    },
    {
      "cell_type": "code",
      "metadata": {
        "id": "EsHjn5fS74m8",
        "colab_type": "code",
        "colab": {}
      },
      "source": [
        "import numpy as np\n",
        "import pandas as pd\n",
        "import random\n",
        "import matplotlib.pyplot as plt\n",
        "import seaborn as sns"
      ],
      "execution_count": 0,
      "outputs": []
    },
    {
      "cell_type": "code",
      "metadata": {
        "id": "Bu4wYsgf8Mgo",
        "colab_type": "code",
        "colab": {
          "base_uri": "https://localhost:8080/",
          "height": 51
        },
        "outputId": "b4ca379d-8edd-4723-8a47-fadf51b0261c"
      },
      "source": [
        "# from the expected conversion rate and stdev of it to get the realized cvr.\n",
        "def get_conversion_rate(expected, stdev):\n",
        "    conversion_rate = max(expected + np.random.normal()*stdev, \n",
        "                          0.000001)\n",
        "    return conversion_rate # we are also assuming conversion_rate to be normally distributed\n",
        "\n",
        "# Function for calculating the results of a marketing campaign\n",
        "def run_campaign(spend, cpm, conversion_rate):\n",
        "    return np.random.binomial(spend/cpm*1000, conversion_rate)\n",
        "\n",
        "# Gather marketing campaign inputs\n",
        "\n",
        "# Budget\n",
        "spend = 50000.\n",
        "# Cost per thousand\n",
        "cpm = 2 # cost per impression\n",
        "# Conversion rate\n",
        "conversion_rate_expected = 0.00005\n",
        "conversion_rate_stdev = 0.00002\n",
        "\n",
        "# Run the function\n",
        "conversion_rate = get_conversion_rate(conversion_rate_expected, \n",
        "                                      conversion_rate_stdev)\n",
        "cohort_size = run_campaign(spend, cpm, conversion_rate)\n",
        "CAC = spend/cohort_size\n",
        "\n",
        "print('Customers Gained: ', cohort_size)\n",
        "print('CAC: ', int(CAC))"
      ],
      "execution_count": 2,
      "outputs": [
        {
          "output_type": "stream",
          "text": [
            "Customers Gained:  1511\n",
            "CAC:  33\n"
          ],
          "name": "stdout"
        }
      ]
    },
    {
      "cell_type": "code",
      "metadata": {
        "id": "ofl4SXiNAenM",
        "colab_type": "code",
        "colab": {}
      },
      "source": [
        "# Function that models the progression of a cohort over time\n",
        "def simulate_cohort(cohort_size, churn_rate, transactions, price, \n",
        "                    retention_cost, yrs=5):\n",
        "    customers_left = []\n",
        "    spending = []\n",
        "    profit = []\n",
        "    for i in range(yrs):\n",
        "        for customer in range(cohort_size):\n",
        "            # Assume cancels happen at the start of the year \n",
        "            # (for simplicity)\n",
        "            churn_random_num = np.random.random()\n",
        "            # Generate a random number between 0 and 1, if less \n",
        "            # than churn_rate then customer has churned and we \n",
        "            # subtract 1 from cohort_size\n",
        "            if churn_random_num <= churn_rate:\n",
        "                cohort_size += -1\n",
        "            # Calculate and record cohort's data\n",
        "        customers_left.append(cohort_size)\n",
        "        spending.append(cohort_size*transactions*price)\n",
        "        profit.append(cohort_size*(transactions*price -\\\n",
        "                                   retention_cost))\n",
        "    return customers_left, spending, profit\n",
        "\n",
        "# Gather cohort related inputs\n",
        "\n",
        "churn_rate = 0.20\n",
        "# Number of annual transactions per average cohort member\n",
        "transactions = 6\n",
        "# Price of goods sold per average transaction\n",
        "price = 10\n",
        "# Annual cost of retaining/servicing customer\n",
        "retention_cost = 20\n",
        "\n",
        "# Run the function\n",
        "customers_left, spending, profit =\\\n",
        "    simulate_cohort(cohort_size, churn_rate, transactions, \n",
        "                    price, retention_cost, yrs=5)"
      ],
      "execution_count": 0,
      "outputs": []
    },
    {
      "cell_type": "code",
      "metadata": {
        "id": "hjQ8QpKwBR30",
        "colab_type": "code",
        "colab": {}
      },
      "source": [
        "# Function to calculate the present value of a set of cashflows\n",
        "def present_value(cashflows, rate):\n",
        "    pvs = []\n",
        "    for i, val in enumerate(cashflows):\n",
        "        pvs.append(val/(1 + rate)**(i+1))\n",
        "    return pvs\n",
        "\n",
        "\n",
        "# Calculate CLTV\n",
        "rate = 0.10\n",
        "\n",
        "# Get the PV of the profits\n",
        "pvs = present_value(profit, rate)\n",
        "# Value of the cohort in today's dollars is sum of PVs\n",
        "cohort_value = sum(pvs)\n",
        "\n",
        "print('Total Cohort Value: ', int(cohort_value))\n",
        "print('CLTV: ', int(cohort_value/cohort_size))\n",
        "print('CLTV-CAC Spread: ', int(cohort_value/cohort_size - CAC))"
      ],
      "execution_count": 0,
      "outputs": []
    },
    {
      "cell_type": "code",
      "metadata": {
        "id": "N_qE-k9KBWXh",
        "colab_type": "code",
        "colab": {}
      },
      "source": [
        "# Bar chart for profit and its PV\n",
        "fig, ax = plt.subplots(figsize=(9,6))\n",
        "plt.bar(x=[i-0.2 for i in range(1,6)], height=profit, width=0.4, label='Profit')\n",
        "plt.bar(x=[i+0.2 for i in range(1,6)], height=pvs, width=0.4, label='Present Value of Profit')\n",
        "\n",
        "ax.set_xlabel(\"Year\",fontsize=16)\n",
        "ax.set_ylabel(\"Profits ($USD)\",fontsize=16)\n",
        "plt.legend()\n",
        "plt.tight_layout()\n",
        "\n",
        "plt.savefig(fname='profit_bar', dpi=150)\n",
        "plt.show()"
      ],
      "execution_count": 0,
      "outputs": []
    },
    {
      "cell_type": "code",
      "metadata": {
        "id": "xIk55FNtBa3c",
        "colab_type": "code",
        "colab": {}
      },
      "source": [
        "# Simulate 1000 times and look at the distributions\n",
        "\n",
        "cohort_size_list = []\n",
        "CAC_list = []\n",
        "CLTV_list = []\n",
        "\n",
        "for i in range(1000):\n",
        "    \n",
        "    # Run marketing campaign sim\n",
        "    conversion_rate = get_conversion_rate(conversion_rate_expected, \n",
        "                                      conversion_rate_stdev)\n",
        "    cohort_size = run_campaign(spend, cpm, conversion_rate)\n",
        "    CAC = spend/cohort_size\n",
        "    \n",
        "    # Simulate the resulting cohort\n",
        "    customers_left, spending, profit =\\\n",
        "        simulate_cohort(cohort_size, churn_rate, transactions, \n",
        "                        price, retention_cost, yrs=5)\n",
        "    \n",
        "    cohort_value = sum(present_value(profit, rate))\n",
        "    \n",
        "    cohort_size_list.append(cohort_size)\n",
        "    CAC_list.append(CAC)\n",
        "    CLTV_list.append(cohort_value/cohort_size)\n",
        "    \n",
        "# Store simulation results in a dataframe\n",
        "results_df = pd.DataFrame()\n",
        "results_df['initial_cohort_size'] = cohort_size_list\n",
        "results_df['CLTV'] = CLTV_list\n",
        "results_df['CAC'] = CAC_list\n",
        "results_df['Spread'] = results_df['CLTV'] - results_df['CAC']\n",
        "\n",
        "plot_df = results_df[results_df['CAC']<=1000]"
      ],
      "execution_count": 0,
      "outputs": []
    },
    {
      "cell_type": "code",
      "metadata": {
        "id": "i0whfvT3BeOd",
        "colab_type": "code",
        "colab": {}
      },
      "source": [
        "# Histogram for distribution of initial cohort size\n",
        "fig, ax = plt.subplots(figsize=(9,6))\n",
        "sns.distplot(plot_df['initial_cohort_size'], kde=False, bins=30)\n",
        "\n",
        "ax.set_xlabel(\"Initial Cohort Size\",fontsize=16)\n",
        "ax.set_ylabel(\"Frequency\",fontsize=16)\n",
        "plt.tight_layout()\n",
        "\n",
        "plt.savefig(fname='cohort_hist', dpi=150)\n",
        "plt.show()"
      ],
      "execution_count": 0,
      "outputs": []
    },
    {
      "cell_type": "code",
      "metadata": {
        "id": "pB4wZn-wBjpl",
        "colab_type": "code",
        "colab": {}
      },
      "source": [
        "# Histogram for distribution of initial cohort size\n",
        "fig, ax = plt.subplots(figsize=(9,6))\n",
        "sns.distplot(plot_df['CAC'], kde=False, bins=60)\n",
        "\n",
        "ax.set_xlabel(\"Customer Acquisition Cost\",fontsize=16)\n",
        "ax.set_ylabel(\"Frequency\",fontsize=16)\n",
        "plt.tight_layout()\n",
        "\n",
        "plt.savefig(fname='CAC_hist', dpi=150)\n",
        "plt.show()"
      ],
      "execution_count": 0,
      "outputs": []
    },
    {
      "cell_type": "code",
      "metadata": {
        "id": "gaFVf3R5Bpgk",
        "colab_type": "code",
        "colab": {}
      },
      "source": [
        "# Histogram for distribution of initial cohort size\n",
        "fig, ax = plt.subplots(figsize=(9,6))\n",
        "sns.distplot(plot_df['CLTV'], kde=False, bins=30)\n",
        "\n",
        "ax.set_xlabel(\"Customer Lifetime Value\",fontsize=16)\n",
        "ax.set_ylabel(\"Frequency\",fontsize=16)\n",
        "plt.tight_layout()\n",
        "\n",
        "plt.savefig(fname='CLTV_hist', dpi=150)\n",
        "plt.show()"
      ],
      "execution_count": 0,
      "outputs": []
    },
    {
      "cell_type": "code",
      "metadata": {
        "id": "AdQ3vTlcBrMf",
        "colab_type": "code",
        "colab": {}
      },
      "source": [
        "# Histogram for distribution of CLTV-CAC Spread\n",
        "fig, ax = plt.subplots(figsize=(9,6))\n",
        "sns.distplot(plot_df['Spread'], kde=False, bins=150)\n",
        "plt.axvline(x=0, color='red')\n",
        "plt.xlim(-200, 80)\n",
        "\n",
        "ax.set_xlabel(\"CLTV - CAC Spread\",fontsize=16)\n",
        "ax.set_ylabel(\"Frequency\",fontsize=16)\n",
        "plt.tight_layout()\n",
        "\n",
        "plt.savefig(fname='spread_hist', dpi=150)\n",
        "plt.show()"
      ],
      "execution_count": 0,
      "outputs": []
    },
    {
      "cell_type": "code",
      "metadata": {
        "id": "AoOzpt8BB3j_",
        "colab_type": "code",
        "colab": {}
      },
      "source": [
        "plot_df['CAC'].median()"
      ],
      "execution_count": 0,
      "outputs": []
    },
    {
      "cell_type": "code",
      "metadata": {
        "id": "rczmiG53B4wG",
        "colab_type": "code",
        "colab": {}
      },
      "source": [
        "sum(plot_df['Spread'] > plot_df['CAC'].median())/plot_df.shape[0]"
      ],
      "execution_count": 0,
      "outputs": []
    },
    {
      "cell_type": "code",
      "metadata": {
        "id": "41NIcVv1B7N1",
        "colab_type": "code",
        "colab": {}
      },
      "source": [
        "conversion_rate_expected*20000"
      ],
      "execution_count": 0,
      "outputs": []
    },
    {
      "cell_type": "code",
      "metadata": {
        "id": "2j3FBCF6B9jc",
        "colab_type": "code",
        "colab": {}
      },
      "source": [
        "np.quantile(plot_df['CAC'], 0.94)"
      ],
      "execution_count": 0,
      "outputs": []
    },
    {
      "cell_type": "code",
      "metadata": {
        "id": "6zcapCbbCB8P",
        "colab_type": "code",
        "colab": {}
      },
      "source": [
        "min(plot_df['CAC'])"
      ],
      "execution_count": 0,
      "outputs": []
    }
  ]
}