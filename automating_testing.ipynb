{
 "cells": [
  {
   "cell_type": "code",
   "execution_count": 929,
   "metadata": {},
   "outputs": [],
   "source": [
    "import selenium\n",
    "from selenium import webdriver\n",
    "import os\n",
    "import time"
   ]
  },
  {
   "cell_type": "code",
   "execution_count": 930,
   "metadata": {},
   "outputs": [],
   "source": [
    "driver_path = 'C:/Users/qiong/Desktop/Scraping/chromedriver.exe'\n",
    "wd = webdriver.Chrome(executable_path=driver_path)"
   ]
  },
  {
   "cell_type": "code",
   "execution_count": 931,
   "metadata": {},
   "outputs": [],
   "source": [
    "wd.get('https://dev-www.expatrio.com/')"
   ]
  },
  {
   "cell_type": "code",
   "execution_count": 932,
   "metadata": {},
   "outputs": [],
   "source": [
    "wd.find_element_by_xpath(\"//div[@class='hero-product']\").click()"
   ]
  },
  {
   "cell_type": "code",
   "execution_count": 933,
   "metadata": {},
   "outputs": [],
   "source": [
    "wd.find_element_by_css_selector(\"#vpApplyScroll\").click()"
   ]
  },
  {
   "cell_type": "code",
   "execution_count": 934,
   "metadata": {},
   "outputs": [],
   "source": [
    "element = wd.find_element_by_xpath(\"//div[@id='exploration_steps']//div[2]//label[1]//input[1]\")\n",
    "wd.execute_script(\"arguments[0].click();\", element)"
   ]
  },
  {
   "cell_type": "code",
   "execution_count": 935,
   "metadata": {},
   "outputs": [],
   "source": [
    "element2 = wd.find_element_by_xpath(\"//button[@class='btn btn-next next-step terms-and-conditions']\")\n",
    "wd.execute_script(\"arguments[0].click();\", element2)"
   ]
  },
  {
   "cell_type": "code",
   "execution_count": 936,
   "metadata": {},
   "outputs": [],
   "source": [
    "wd.find_element_by_xpath(\"//span[contains(text(),'e.g. Student')]\").click()"
   ]
  },
  {
   "cell_type": "code",
   "execution_count": 937,
   "metadata": {},
   "outputs": [],
   "source": [
    "wd.find_element_by_link_text(\"Student\").click()"
   ]
  },
  {
   "cell_type": "code",
   "execution_count": 938,
   "metadata": {},
   "outputs": [],
   "source": [
    "wd.find_element_by_xpath(\"//div[@id='exploration_step-profession']//button[@class='btn btn-next next-step'][contains(text(),'Next')]\").click()"
   ]
  },
  {
   "cell_type": "code",
   "execution_count": 939,
   "metadata": {},
   "outputs": [],
   "source": [
    "wd.find_element_by_xpath(\"//span[contains(text(),'e.g. Chinese')]\").click()"
   ]
  },
  {
   "cell_type": "code",
   "execution_count": 940,
   "metadata": {},
   "outputs": [],
   "source": [
    "wd.find_element_by_link_text(\"Afghan\").click()"
   ]
  },
  {
   "cell_type": "code",
   "execution_count": 941,
   "metadata": {},
   "outputs": [],
   "source": [
    "wd.find_element_by_xpath(\"//div[@id='exploration_step-nationality']//button[@class='btn btn-next next-step'][contains(text(),'Next')]\").click()"
   ]
  },
  {
   "cell_type": "code",
   "execution_count": 942,
   "metadata": {},
   "outputs": [],
   "source": [
    "wd.find_element_by_xpath(\"//label[contains(text(),'At least 18, younger than 23 years old')]\").click()"
   ]
  },
  {
   "cell_type": "code",
   "execution_count": 943,
   "metadata": {},
   "outputs": [],
   "source": [
    "wd.find_element_by_xpath(\"//div[@id='exploration_step-life-stage']//button[@class='btn btn-next next-step'][contains(text(),'Next')]\").click()"
   ]
  },
  {
   "cell_type": "code",
   "execution_count": 944,
   "metadata": {},
   "outputs": [],
   "source": [
    "child = wd.find_element_by_xpath(\"//div[@id='exploration_step-children']//div[2]//label[1]//i[1]\")\n",
    "wd.execute_script(\"arguments[0].click();\", child)"
   ]
  },
  {
   "cell_type": "code",
   "execution_count": 945,
   "metadata": {},
   "outputs": [],
   "source": [
    "wd.find_element_by_xpath(\"//div[@id='exploration_step-children']//button[@class='btn btn-next next-step'][contains(text(),'Next')]\").click()"
   ]
  },
  {
   "cell_type": "code",
   "execution_count": 946,
   "metadata": {},
   "outputs": [],
   "source": [
    "wd.find_element_by_xpath(\"//div[@id='exploration-belowMaxSemesterNumber']//div[1]//label[1]\").click()"
   ]
  },
  {
   "cell_type": "code",
   "execution_count": 947,
   "metadata": {},
   "outputs": [],
   "source": [
    "wd.find_element_by_xpath(\"//div[@id='exploration_step-duration']//button[@class='btn btn-next next-step'][contains(text(),'Next')]\").click()"
   ]
  },
  {
   "cell_type": "code",
   "execution_count": 948,
   "metadata": {},
   "outputs": [],
   "source": [
    "wd.find_element_by_xpath(\"//input[@id='personal_information-arrivalInGermany']\").click()"
   ]
  },
  {
   "cell_type": "code",
   "execution_count": 949,
   "metadata": {},
   "outputs": [],
   "source": [
    "wd.find_element_by_xpath(\"//td[contains(text(),'18')]\").click()\n",
    "#//div[@class='datepicker-days']//th[@class='next'][contains(text(),'»')]"
   ]
  },
  {
   "cell_type": "code",
   "execution_count": 950,
   "metadata": {},
   "outputs": [],
   "source": [
    "wd.find_element_by_xpath(\"//input[@id='personal_information-beginOfStudy']\").click()"
   ]
  },
  {
   "cell_type": "code",
   "execution_count": 951,
   "metadata": {},
   "outputs": [],
   "source": [
    "wd.find_element_by_xpath(\"//td[contains(text(),'31')]\").click()"
   ]
  },
  {
   "cell_type": "code",
   "execution_count": 952,
   "metadata": {},
   "outputs": [],
   "source": [
    "wd.find_element_by_xpath(\"//div[@id='exploration_arrival']//button[@class='btn btn-next next-step'][contains(text(),'Next')]\").click()"
   ]
  },
  {
   "cell_type": "code",
   "execution_count": 953,
   "metadata": {},
   "outputs": [],
   "source": [
    "wd.find_element_by_xpath(\"//input[@id='discount-voucherCode']\").send_keys(\"FREEBA19\")"
   ]
  },
  {
   "cell_type": "code",
   "execution_count": 954,
   "metadata": {},
   "outputs": [],
   "source": [
    "wd.find_element_by_xpath(\"//div[@id='exploration_vaucher']//button[@class='btn btn-next next-step'][contains(text(),'Next')]\").click()"
   ]
  },
  {
   "cell_type": "code",
   "execution_count": 955,
   "metadata": {},
   "outputs": [],
   "source": [
    "apply = wd.find_element_by_xpath(\"//div[@id='exploration_calculation']//button[@class='btn btn-next next-step'][contains(text(),'Next')]\")\n",
    "wd.execute_script(\"arguments[0].click();\", apply)"
   ]
  },
  {
   "cell_type": "code",
   "execution_count": 956,
   "metadata": {},
   "outputs": [],
   "source": [
    "hi = wd.find_element_by_xpath(\"//button[@class='btn btn-next apply-for-plan']\")\n",
    "wd.execute_script(\"arguments[0].click();\", hi)"
   ]
  },
  {
   "cell_type": "code",
   "execution_count": 957,
   "metadata": {},
   "outputs": [],
   "source": [
    "wd.find_element_by_xpath(\"//div[@class='btn-group bootstrap-select form-control']//span[@class='filter-option pull-left']\").click()"
   ]
  },
  {
   "cell_type": "code",
   "execution_count": 958,
   "metadata": {},
   "outputs": [],
   "source": [
    "wd.find_element_by_xpath(\"//div[@class='col-lg-3']//li[2]//a[1]//span[1]\").click()"
   ]
  },
  {
   "cell_type": "code",
   "execution_count": 959,
   "metadata": {},
   "outputs": [],
   "source": [
    "wd.find_element_by_xpath(\"//input[@id='personal_information-firstName']\").send_keys(\"Hello\")"
   ]
  },
  {
   "cell_type": "code",
   "execution_count": 960,
   "metadata": {},
   "outputs": [],
   "source": [
    "wd.find_element_by_xpath(\"//input[@id='personal_information-lastName']\").send_keys(\"Test\")"
   ]
  },
  {
   "cell_type": "code",
   "execution_count": 961,
   "metadata": {},
   "outputs": [],
   "source": [
    "wd.find_element_by_xpath(\"//input[@id='personal_information-lastNameAtBirth']\").send_keys(\"Test\")"
   ]
  },
  {
   "cell_type": "code",
   "execution_count": 962,
   "metadata": {},
   "outputs": [],
   "source": [
    "wd.find_element_by_xpath(\"//input[@id='personal_information-dateOfBirth']\").click()"
   ]
  },
  {
   "cell_type": "code",
   "execution_count": 963,
   "metadata": {},
   "outputs": [],
   "source": [
    "wd.find_element_by_xpath(\"//button[@class='btn dropdown-toggle bs-placeholder btn-default']//span[@class='filter-option pull-left']\").click()"
   ]
  },
  {
   "cell_type": "code",
   "execution_count": 964,
   "metadata": {},
   "outputs": [],
   "source": [
    "wd.find_element_by_xpath(\"//span[contains(text(),'Afghanistan')]\").click()"
   ]
  },
  {
   "cell_type": "code",
   "execution_count": 965,
   "metadata": {},
   "outputs": [],
   "source": [
    "wd.find_element_by_id(\"personal_information-placeOfBirth\").send_keys(\"somewhere\")"
   ]
  },
  {
   "cell_type": "code",
   "execution_count": 966,
   "metadata": {},
   "outputs": [],
   "source": [
    "wd.find_element_by_id(\"personal_information-phoneCountryCode\").send_keys(\"12\")"
   ]
  },
  {
   "cell_type": "code",
   "execution_count": 967,
   "metadata": {},
   "outputs": [],
   "source": [
    "wd.find_element_by_id(\"personal_information-phoneNumber\").send_keys(\"12345678\")"
   ]
  },
  {
   "cell_type": "code",
   "execution_count": 968,
   "metadata": {},
   "outputs": [],
   "source": [
    "wd.find_element_by_id(\"personal_information-emailAddress\").send_keys(\"qiong+djsldsdvdshfnla@expatrio.com\")"
   ]
  },
  {
   "cell_type": "code",
   "execution_count": 969,
   "metadata": {},
   "outputs": [],
   "source": [
    "wd.execute_script(\"window.scrollTo(0, 600)\")\n",
    "wd.find_element_by_xpath(\"//input[@id='legal_information-passport_upload_file']\").send_keys(os.getcwd()+\"/world.png\")\n",
    "time.sleep(5)"
   ]
  },
  {
   "cell_type": "code",
   "execution_count": 970,
   "metadata": {},
   "outputs": [],
   "source": [
    "wd.find_element_by_xpath(\"//input[@id='legal_information-passportNumber']\").send_keys(\"Edjs458\")"
   ]
  },
  {
   "cell_type": "code",
   "execution_count": 971,
   "metadata": {},
   "outputs": [],
   "source": [
    "wd.find_element_by_xpath(\"//button[@class='btn btn-next next-step']\").click()"
   ]
  },
  {
   "cell_type": "code",
   "execution_count": 972,
   "metadata": {},
   "outputs": [],
   "source": [
    "wd.find_element_by_xpath(\"//div[@class='col-lg-6']//span[@class='filter-option pull-left']\").click()"
   ]
  },
  {
   "cell_type": "code",
   "execution_count": 973,
   "metadata": {},
   "outputs": [],
   "source": [
    "wd.find_element_by_xpath(\"//div[@class='btn-group bootstrap-select form-control prefill-picker open']//input[@placeholder='e.g. China']\").send_keys(\"Af\")"
   ]
  },
  {
   "cell_type": "code",
   "execution_count": 974,
   "metadata": {},
   "outputs": [],
   "source": [
    "wd.find_element_by_link_text(\"Afghanistan\").click()"
   ]
  },
  {
   "cell_type": "code",
   "execution_count": 975,
   "metadata": {},
   "outputs": [],
   "source": [
    "wd.find_element_by_id(\"personal_information-foreignAddress-streetName\").send_keys(\"Street skf\")"
   ]
  },
  {
   "cell_type": "code",
   "execution_count": 976,
   "metadata": {},
   "outputs": [],
   "source": [
    "wd.find_element_by_id(\"personal_information-foreignAddress-streetNumber\").send_keys(\"4\")"
   ]
  },
  {
   "cell_type": "code",
   "execution_count": 977,
   "metadata": {},
   "outputs": [],
   "source": [
    "wd.find_element_by_id(\"personal_information-foreignAddress-postalCode\").send_keys(\"123456\")\n",
    "wd.find_element_by_id(\"personal_information-foreignAddress-city\").send_keys(\"Where\")"
   ]
  },
  {
   "cell_type": "code",
   "execution_count": 978,
   "metadata": {},
   "outputs": [],
   "source": [
    "wd.find_element_by_xpath(\"//span[contains(text(),'Country')]\").click()\n",
    "wd.find_element_by_link_text(\"Afghanistan\").click()"
   ]
  },
  {
   "cell_type": "code",
   "execution_count": 979,
   "metadata": {},
   "outputs": [],
   "source": [
    "wd.find_element_by_xpath(\"//button[@class='btn btn-next next-step']\").click()"
   ]
  },
  {
   "cell_type": "code",
   "execution_count": 980,
   "metadata": {},
   "outputs": [],
   "source": [
    "wd.find_element_by_xpath(\"//span[@class='filter-option pull-left'][contains(text(),'University')]\").click()\n",
    "wd.find_element_by_xpath(\"//body//li[22]\").click()\n",
    "time.sleep(1)"
   ]
  },
  {
   "cell_type": "code",
   "execution_count": 981,
   "metadata": {},
   "outputs": [],
   "source": [
    "wd.find_element_by_xpath(\"//input[@id='study_information-specialization']\").send_keys(\"Sociology\")"
   ]
  },
  {
   "cell_type": "code",
   "execution_count": 982,
   "metadata": {},
   "outputs": [],
   "source": [
    "wd.find_element_by_xpath(\"//span[@class='filter-option pull-left'][contains(text(),'Semester')]\").click()"
   ]
  },
  {
   "cell_type": "code",
   "execution_count": 983,
   "metadata": {},
   "outputs": [],
   "source": [
    "wd.find_element_by_xpath(\"//div[@class='row m-t-50']//div[@class='col-lg-4']//li[6]\").click()\n",
    "wd.find_element_by_xpath(\"//div[@id='study_information-hasStudiedAbroad']//div[1]//label[1]//i[1]\").click()"
   ]
  },
  {
   "cell_type": "code",
   "execution_count": 984,
   "metadata": {},
   "outputs": [],
   "source": [
    "wd.find_element_by_xpath(\"//button[@class='btn btn-next next-step']\").click()\n",
    "time.sleep(2)\n",
    "wd.find_element_by_xpath(\"//button[@class='btn btn-next next-step']\").click()"
   ]
  },
  {
   "cell_type": "code",
   "execution_count": 985,
   "metadata": {},
   "outputs": [],
   "source": [
    "wd.execute_script(\"window.scrollTo(0, 800)\")\n",
    "time.sleep(2)\n",
    "wd.find_element_by_xpath(\"//button[@class='btn btn-next next-step']\").click()"
   ]
  },
  {
   "cell_type": "code",
   "execution_count": 986,
   "metadata": {},
   "outputs": [],
   "source": [
    "wd.find_element_by_xpath(\"//div[@class='form-section-body related']//div[1]//div[1]//label[1]//i[1]\").click()\n",
    "wd.find_element_by_xpath(\"//div[@class='form-section-body related']//div[2]//div[1]//label[1]//i[1]\").click()\n",
    "wd.find_element_by_xpath(\"//div[@class='form-section-body related']//div[3]//div[1]//label[1]//i[1]\").click()\n",
    "wd.find_element_by_xpath(\"//div[@class='form-section-body related']//div[4]//div[1]//label[1]//i[1]\").click()\n",
    "wd.find_element_by_xpath(\"//div[@class='form-section-body related']//div[5]//div[1]//label[1]//i[1]\").click()\n",
    "wd.find_element_by_xpath(\"//div[@class='form-section-body related']//div[6]//div[1]//label[1]//i[1]\").click()"
   ]
  },
  {
   "cell_type": "code",
   "execution_count": 987,
   "metadata": {},
   "outputs": [],
   "source": [
    "wd.execute_script(\"window.scrollTo(0, 600)\")\n",
    "wd.find_element_by_xpath(\"//div[7]//div[1]//label[1]//i[1]\").click()\n",
    "wd.find_element_by_xpath(\"//div[8]//div[1]//label[1]//i[1]\").click()\n",
    "wd.find_element_by_xpath(\"//div[9]//div[1]//label[1]//i[1]\").click()\n",
    "wd.find_element_by_xpath(\"//div[10]//div[1]//label[1]//i[1]\").click()\n",
    "#wd.find_element_by_xpath(\"//div[7]//div[1]//label[1]//i[1]\").click()"
   ]
  },
  {
   "cell_type": "code",
   "execution_count": 988,
   "metadata": {},
   "outputs": [],
   "source": [
    "wd.find_element_by_xpath(\"//button[@class='btn btn-next next-step']\").click()"
   ]
  }
 ],
 "metadata": {
  "kernelspec": {
   "display_name": "Python 3",
   "language": "python",
   "name": "python3"
  },
  "language_info": {
   "codemirror_mode": {
    "name": "ipython",
    "version": 3
   },
   "file_extension": ".py",
   "mimetype": "text/x-python",
   "name": "python",
   "nbconvert_exporter": "python",
   "pygments_lexer": "ipython3",
   "version": "3.7.3"
  }
 },
 "nbformat": 4,
 "nbformat_minor": 4
}
