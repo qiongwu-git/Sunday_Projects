{
  "nbformat": 4,
  "nbformat_minor": 0,
  "metadata": {
    "colab": {
      "name": "Scraping.ipynb",
      "provenance": [],
      "collapsed_sections": [],
      "include_colab_link": true
    },
    "kernelspec": {
      "name": "python3",
      "display_name": "Python 3"
    }
  },
  "cells": [
    {
      "cell_type": "markdown",
      "metadata": {
        "id": "view-in-github",
        "colab_type": "text"
      },
      "source": [
        "<a href=\"https://colab.research.google.com/github/qiongwu-git/my_project/blob/master/Scraping.ipynb\" target=\"_parent\"><img src=\"https://colab.research.google.com/assets/colab-badge.svg\" alt=\"Open In Colab\"/></a>"
      ]
    },
    {
      "cell_type": "code",
      "metadata": {
        "id": "WvKZxFCMaArL",
        "colab_type": "code",
        "colab": {}
      },
      "source": [
        "import requests\n",
        "import urllib.request\n",
        "import time\n",
        "import re\n",
        "from bs4 import BeautifulSoup\n",
        "import pandas as pd\n",
        "import csv\n",
        "from tqdm import tqdm"
      ],
      "execution_count": 0,
      "outputs": []
    },
    {
      "cell_type": "code",
      "metadata": {
        "id": "N-PlbOamavPO",
        "colab_type": "code",
        "colab": {}
      },
      "source": [
        "def pageCrawler(page):\n",
        "  url = \"https://www.trustpilot.com/review/expatrio.com?page=\" + str(page)\n",
        "  response = requests.get(url)\n",
        "  soup = BeautifulSoup(response.text, \"html.parser\")\n",
        "  x = soup.find_all('div', {'class':'review-content'})\n",
        "  reviews = []\n",
        "  for i in x:\n",
        "    per_review = i.find('p')\n",
        "    new_per_review = str('per_review').replace('<br/>', '')\n",
        "    new_per_review = new_per_review[32:-4]\n",
        "    new_per_review = new_per_review.strip()\n",
        "    reviews.append(new_per_review)\n",
        "  return reviews"
      ],
      "execution_count": 0,
      "outputs": []
    },
    {
      "cell_type": "code",
      "metadata": {
        "id": "2-hYqfyQbr7M",
        "colab_type": "code",
        "colab": {
          "base_uri": "https://localhost:8080/",
          "height": 34
        },
        "outputId": "64211029-1532-4447-8e8b-5f2ea171b783"
      },
      "source": [
        "all_reviews = []\n",
        "for i in tqdm(range(1, 26)):\n",
        "  pageCrawler(i)\n",
        "  all_reviews += pageCrawler(i)"
      ],
      "execution_count": 11,
      "outputs": [
        {
          "output_type": "stream",
          "text": [
            "100%|██████████| 25/25 [00:13<00:00,  1.71it/s]\n"
          ],
          "name": "stderr"
        }
      ]
    },
    {
      "cell_type": "code",
      "metadata": {
        "id": "nxi8bR-Rc3Ql",
        "colab_type": "code",
        "colab": {
          "base_uri": "https://localhost:8080/",
          "height": 34
        },
        "outputId": "44fd2d42-3391-411b-e7f5-136833c30360"
      },
      "source": [
        "len(all_reviews)"
      ],
      "execution_count": 12,
      "outputs": [
        {
          "output_type": "execute_result",
          "data": {
            "text/plain": [
              "500"
            ]
          },
          "metadata": {
            "tags": []
          },
          "execution_count": 12
        }
      ]
    },
    {
      "cell_type": "code",
      "metadata": {
        "id": "JeZxcxKCc8nw",
        "colab_type": "code",
        "colab": {}
      },
      "source": [
        "all_reviews = pd.DataFrame(all_reviews)"
      ],
      "execution_count": 0,
      "outputs": []
    }
  ]
}