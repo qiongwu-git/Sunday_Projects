{
 "cells": [
  {
   "cell_type": "code",
   "execution_count": 10,
   "metadata": {
    "ExecuteTime": {
     "end_time": "2020-02-19T22:00:01.002763Z",
     "start_time": "2020-02-19T22:00:00.998774Z"
    }
   },
   "outputs": [],
   "source": [
    "import json\n",
    "import os\n",
    "\n",
    "import google_auth_oauthlib.flow\n",
    "import googleapiclient.discovery\n",
    "import googleapiclient.errors\n",
    "import requests\n",
    "import youtube_dl"
   ]
  },
  {
   "cell_type": "code",
   "execution_count": null,
   "metadata": {
    "ExecuteTime": {
     "start_time": "2020-02-19T22:05:00.979Z"
    }
   },
   "outputs": [
    {
     "name": "stdout",
     "output_type": "stream",
     "text": [
      "Please visit this URL to authorize this application: https://accounts.google.com/o/oauth2/auth?response_type=code&client_id=&redirect_uri=urn%3Aietf%3Awg%3Aoauth%3A2.0%3Aoob&scope=https%3A%2F%2Fwww.googleapis.com%2Fauth%2Fyoutube.readonly&state=NZQ3rkgikUx6RFR644fHWpiYP8HTBV&prompt=consent&access_type=offline\n"
     ]
    }
   ],
   "source": [
    "spotify_token = \"BQDsS3g37DbaXNYqSwziau6FYRy_EFT0lAwR2Vdsw0CzZV6417mJwItmixRANmsaxgmAOWMmMPV1GRYr2aWlsZayP8PPQNPk1jhL4NrlsbZEpa_ZC1sqYsUR2cTrdnKNpIbJxEX2-wmOUIdhoZ-UZciiYro0ewk_aHSrQm7nQm8uiP6TbkSQr6g5U2PZbGyKGf5ZNUZaVBEnDRPLATGg5hjPE8omJjgC\"\n",
    "spotify_user_id = \"fv9zz0zcfxemmuvj7ztnclgmx\"\n",
    "\n",
    "class createPlayList:\n",
    "    \n",
    "    def __init__(self):\n",
    "        self.user_id = spotify_user_id\n",
    "        self.spotify_token = spotify_token\n",
    "        self.youtube_client = self.get_youtube_client()\n",
    "        \n",
    "    \n",
    "        \n",
    "    \n",
    "    def get_youtube_client(self):\n",
    "        os.environ[\"OAUTHLIB_INSECURE_TRANSPORT\"] = \"1\"\n",
    "        api_service_name = \"youtube\"\n",
    "        api_version = \"v3\"\n",
    "        client_secrets_file = \"client_secret.json\"\n",
    "\n",
    "        # Get credentials and create an API client\n",
    "        scopes = [\"https://www.googleapis.com/auth/youtube.readonly\"]\n",
    "        flow = google_auth_oauthlib.flow.InstalledAppFlow.from_client_secrets_file(client_secrets_file, scopes)\n",
    "        credentials = flow.run_console()\n",
    "\n",
    "        # from the Youtube DATA API\n",
    "        youtube_client = googleapiclient.discovery.build(api_service_name, api_version, credentials=credentials)\n",
    "\n",
    "        return youtube_client\n",
    "    \n",
    "    def get_liked_videos(self):\n",
    "        video_title = item[\"snippet\"][\"title\"]\n",
    "        youtube_url = \"https://www.youtube.com/watch?v={}\".format(item[\"id\"])\n",
    "\n",
    "        # use youtube_dl to collect the song name & artist name\n",
    "        video = youtube_dl.YoutubeDL({}).extract_info(youtube_url, download=False)\n",
    "        song_name = video[\"track\"]\n",
    "        artist = video[\"artist\"]\n",
    "            \n",
    "        request = self.youtube_client.videos().list(\n",
    "        part=\"snippet,contentDetails,statistics\",\n",
    "        myRating=\"like\"\n",
    "        )\n",
    "        \n",
    "        response = request.execute()\n",
    "        \n",
    "        for item in response[\"items\"]:\n",
    "            video_title = item[\"snippet\"][\"title\"]\n",
    "            youtube_url = \"https://www.youtube.com/watch?v={}\".format(item[\"id\"])\n",
    "\n",
    "            # use youtube_dl to collect the song name & artist name\n",
    "            video = youtube_dl.YoutubeDL({}).extract_info(youtube_url, download=False)\n",
    "            song_name = video[\"track\"]\n",
    "            artist = video[\"artist\"]\n",
    "                \n",
    "            if song_name is not None and artist is not None:\n",
    "                self.all_song_info[video_title] = {\n",
    "                    \"youtube_url\": youtube_url,\n",
    "                    \"song_name\": song_name,\n",
    "                    \"artist\": artist,\n",
    "                    \"spotify_uri\":self.get_spotify_uri(song_name,artist)\n",
    "                }\n",
    "                    \n",
    "    def create_playlist(self):\n",
    "        pass\n",
    "    \n",
    "        request_body = json.dumps({\n",
    "            \"name\":\"Youtube Likes\",\n",
    "            \"description\":\"All Youtube liked videos\",\n",
    "            \"public\":True\n",
    "        })\n",
    "        \n",
    "        query = \"https://api.spotify.com/v1/users/{}/playlists\".format(spotify_user_id)\n",
    "        response = requests.post(\n",
    "            query,\n",
    "            data=request_body,\n",
    "            headers={\n",
    "                \"Content-Type\":\"application/json\",\n",
    "                \"Authorization\":\"Bearer.{}\".format(spotify_token)\n",
    "            }\n",
    "        )\n",
    "        \n",
    "        response_json = response.json()\n",
    "        \n",
    "        return response_json[\"id\"]\n",
    "    \n",
    "    \n",
    "    \n",
    "    def get_spotify_uri(self, song_name, artist):\n",
    "        query = \"https://api.spotify.com/v1/search?query=track%3A{}+artist%3A{}&type=track&offset=0&limit=20\".format(\n",
    "            song_name,\n",
    "            artist\n",
    "        )\n",
    "        \n",
    "        response = requests.get(\n",
    "            query,\n",
    "            headers={\n",
    "                \"Content-Type\":\"application/json\",\n",
    "                \"Authorization\":\"Bearer.{}\".format(spotify_token)\n",
    "            }\n",
    "        )\n",
    "        \n",
    "        response_json = response.json()\n",
    "        songs = response_json[\"tracks\"][\"items\"]\n",
    "        \n",
    "        uri = songs[0][\"uri\"]\n",
    "        \n",
    "        return uri\n",
    "    \n",
    "    def add_song_to_play_list(self):\n",
    "        self.get_liked_videos()\n",
    "        uris = [info[\"spotify_uri\"] for song, info in self.all_song_info.items()]\n",
    "        playlist_id = self.create_playlist()\n",
    "        request_data = json.dumps(uris)\n",
    "        query = \"https://api.spotify.com/v1/playlists/{}/tracks\".format(playlist_id)\n",
    "        response = response.post(\n",
    "            query,\n",
    "            data=request_data,\n",
    "            headers={\n",
    "                \"Content-Type\":\"application/json\",\n",
    "                \"Authorization\":\"Bearer.{}\".format(spotify_token)\n",
    "            }\n",
    "        )\n",
    "        \n",
    "        response_json = response.json()\n",
    "        return response_json\n",
    "    \n",
    "if __name__ == '__main__':\n",
    "    cp = createPlayList()\n",
    "    cp.add_song_to_playlist\n",
    "        \n",
    "    \n",
    "        \n",
    "    \n",
    "    "
   ]
  }
 ],
 "metadata": {
  "kernelspec": {
   "display_name": "Python 3",
   "language": "python",
   "name": "python3"
  },
  "language_info": {
   "codemirror_mode": {
    "name": "ipython",
    "version": 3
   },
   "file_extension": ".py",
   "mimetype": "text/x-python",
   "name": "python",
   "nbconvert_exporter": "python",
   "pygments_lexer": "ipython3",
   "version": "3.7.3"
  },
  "varInspector": {
   "cols": {
    "lenName": 16,
    "lenType": 16,
    "lenVar": 40
   },
   "kernels_config": {
    "python": {
     "delete_cmd_postfix": "",
     "delete_cmd_prefix": "del ",
     "library": "var_list.py",
     "varRefreshCmd": "print(var_dic_list())"
    },
    "r": {
     "delete_cmd_postfix": ") ",
     "delete_cmd_prefix": "rm(",
     "library": "var_list.r",
     "varRefreshCmd": "cat(var_dic_list()) "
    }
   },
   "types_to_exclude": [
    "module",
    "function",
    "builtin_function_or_method",
    "instance",
    "_Feature"
   ],
   "window_display": false
  }
 },
 "nbformat": 4,
 "nbformat_minor": 2
}
